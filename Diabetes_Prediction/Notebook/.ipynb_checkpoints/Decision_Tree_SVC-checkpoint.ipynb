{
 "cells": [
  {
   "cell_type": "code",
   "execution_count": 1,
   "id": "63a4850d-6666-4b11-8382-8e380ab7c0b2",
   "metadata": {},
   "outputs": [],
   "source": [
    "#Let's start with importing necessary libraries\n",
    "import pandas as pd \n",
    "import numpy as np \n",
    "from sklearn.preprocessing import StandardScaler \n",
    "#from sklearn.linear_model import LogisticRegression\n",
    "from sklearn.tree import DecisionTreeClassifier\n",
    "from sklearn.svm import SVC\n",
    "from sklearn.naive_bayes import BernoulliNB\n",
    "from sklearn.model_selection import train_test_split\n",
    "from sklearn.metrics import accuracy_score, confusion_matrix\n",
    "import matplotlib.pyplot as plt\n",
    "import seaborn as sns"
   ]
  },
  {
   "cell_type": "code",
   "execution_count": 2,
   "id": "07f677fb-3049-4528-9a0e-00b947224db3",
   "metadata": {},
   "outputs": [],
   "source": [
    "# read the data file \n",
    "data = pd.read_csv('/Users/thejesraj/Desktop/Data_Science_Projects/Diabetes_Prediction/Dataset/diabetes.csv')"
   ]
  },
  {
   "cell_type": "code",
   "execution_count": 3,
   "id": "ea178bd1-27e3-4f55-8626-cbf81362e7f2",
   "metadata": {},
   "outputs": [
    {
     "data": {
      "text/html": [
       "<div>\n",
       "<style scoped>\n",
       "    .dataframe tbody tr th:only-of-type {\n",
       "        vertical-align: middle;\n",
       "    }\n",
       "\n",
       "    .dataframe tbody tr th {\n",
       "        vertical-align: top;\n",
       "    }\n",
       "\n",
       "    .dataframe thead th {\n",
       "        text-align: right;\n",
       "    }\n",
       "</style>\n",
       "<table border=\"1\" class=\"dataframe\">\n",
       "  <thead>\n",
       "    <tr style=\"text-align: right;\">\n",
       "      <th></th>\n",
       "      <th>Pregnancies</th>\n",
       "      <th>Glucose</th>\n",
       "      <th>BloodPressure</th>\n",
       "      <th>SkinThickness</th>\n",
       "      <th>Insulin</th>\n",
       "      <th>BMI</th>\n",
       "      <th>DiabetesPedigreeFunction</th>\n",
       "      <th>Age</th>\n",
       "      <th>Outcome</th>\n",
       "    </tr>\n",
       "  </thead>\n",
       "  <tbody>\n",
       "    <tr>\n",
       "      <th>0</th>\n",
       "      <td>6</td>\n",
       "      <td>148</td>\n",
       "      <td>72</td>\n",
       "      <td>35</td>\n",
       "      <td>0</td>\n",
       "      <td>33.6</td>\n",
       "      <td>0.627</td>\n",
       "      <td>50</td>\n",
       "      <td>1</td>\n",
       "    </tr>\n",
       "    <tr>\n",
       "      <th>1</th>\n",
       "      <td>1</td>\n",
       "      <td>85</td>\n",
       "      <td>66</td>\n",
       "      <td>29</td>\n",
       "      <td>0</td>\n",
       "      <td>26.6</td>\n",
       "      <td>0.351</td>\n",
       "      <td>31</td>\n",
       "      <td>0</td>\n",
       "    </tr>\n",
       "    <tr>\n",
       "      <th>2</th>\n",
       "      <td>8</td>\n",
       "      <td>183</td>\n",
       "      <td>64</td>\n",
       "      <td>0</td>\n",
       "      <td>0</td>\n",
       "      <td>23.3</td>\n",
       "      <td>0.672</td>\n",
       "      <td>32</td>\n",
       "      <td>1</td>\n",
       "    </tr>\n",
       "    <tr>\n",
       "      <th>3</th>\n",
       "      <td>1</td>\n",
       "      <td>89</td>\n",
       "      <td>66</td>\n",
       "      <td>23</td>\n",
       "      <td>94</td>\n",
       "      <td>28.1</td>\n",
       "      <td>0.167</td>\n",
       "      <td>21</td>\n",
       "      <td>0</td>\n",
       "    </tr>\n",
       "    <tr>\n",
       "      <th>4</th>\n",
       "      <td>0</td>\n",
       "      <td>137</td>\n",
       "      <td>40</td>\n",
       "      <td>35</td>\n",
       "      <td>168</td>\n",
       "      <td>43.1</td>\n",
       "      <td>2.288</td>\n",
       "      <td>33</td>\n",
       "      <td>1</td>\n",
       "    </tr>\n",
       "  </tbody>\n",
       "</table>\n",
       "</div>"
      ],
      "text/plain": [
       "   Pregnancies  Glucose  BloodPressure  SkinThickness  Insulin   BMI  \\\n",
       "0            6      148             72             35        0  33.6   \n",
       "1            1       85             66             29        0  26.6   \n",
       "2            8      183             64              0        0  23.3   \n",
       "3            1       89             66             23       94  28.1   \n",
       "4            0      137             40             35      168  43.1   \n",
       "\n",
       "   DiabetesPedigreeFunction  Age  Outcome  \n",
       "0                     0.627   50        1  \n",
       "1                     0.351   31        0  \n",
       "2                     0.672   32        1  \n",
       "3                     0.167   21        0  \n",
       "4                     2.288   33        1  "
      ]
     },
     "execution_count": 3,
     "metadata": {},
     "output_type": "execute_result"
    }
   ],
   "source": [
    "data.head()"
   ]
  },
  {
   "cell_type": "code",
   "execution_count": 4,
   "id": "5ebe244f-126a-42f6-b889-f9a7e4dc4a10",
   "metadata": {},
   "outputs": [
    {
     "data": {
      "text/html": [
       "<div>\n",
       "<style scoped>\n",
       "    .dataframe tbody tr th:only-of-type {\n",
       "        vertical-align: middle;\n",
       "    }\n",
       "\n",
       "    .dataframe tbody tr th {\n",
       "        vertical-align: top;\n",
       "    }\n",
       "\n",
       "    .dataframe thead th {\n",
       "        text-align: right;\n",
       "    }\n",
       "</style>\n",
       "<table border=\"1\" class=\"dataframe\">\n",
       "  <thead>\n",
       "    <tr style=\"text-align: right;\">\n",
       "      <th></th>\n",
       "      <th>Pregnancies</th>\n",
       "      <th>Glucose</th>\n",
       "      <th>BloodPressure</th>\n",
       "      <th>SkinThickness</th>\n",
       "      <th>Insulin</th>\n",
       "      <th>BMI</th>\n",
       "      <th>DiabetesPedigreeFunction</th>\n",
       "      <th>Age</th>\n",
       "      <th>Outcome</th>\n",
       "    </tr>\n",
       "  </thead>\n",
       "  <tbody>\n",
       "    <tr>\n",
       "      <th>count</th>\n",
       "      <td>768.000000</td>\n",
       "      <td>768.000000</td>\n",
       "      <td>768.000000</td>\n",
       "      <td>768.000000</td>\n",
       "      <td>768.000000</td>\n",
       "      <td>768.000000</td>\n",
       "      <td>768.000000</td>\n",
       "      <td>768.000000</td>\n",
       "      <td>768.000000</td>\n",
       "    </tr>\n",
       "    <tr>\n",
       "      <th>mean</th>\n",
       "      <td>3.845052</td>\n",
       "      <td>120.894531</td>\n",
       "      <td>69.105469</td>\n",
       "      <td>20.536458</td>\n",
       "      <td>79.799479</td>\n",
       "      <td>31.992578</td>\n",
       "      <td>0.471876</td>\n",
       "      <td>33.240885</td>\n",
       "      <td>0.348958</td>\n",
       "    </tr>\n",
       "    <tr>\n",
       "      <th>std</th>\n",
       "      <td>3.369578</td>\n",
       "      <td>31.972618</td>\n",
       "      <td>19.355807</td>\n",
       "      <td>15.952218</td>\n",
       "      <td>115.244002</td>\n",
       "      <td>7.884160</td>\n",
       "      <td>0.331329</td>\n",
       "      <td>11.760232</td>\n",
       "      <td>0.476951</td>\n",
       "    </tr>\n",
       "    <tr>\n",
       "      <th>min</th>\n",
       "      <td>0.000000</td>\n",
       "      <td>0.000000</td>\n",
       "      <td>0.000000</td>\n",
       "      <td>0.000000</td>\n",
       "      <td>0.000000</td>\n",
       "      <td>0.000000</td>\n",
       "      <td>0.078000</td>\n",
       "      <td>21.000000</td>\n",
       "      <td>0.000000</td>\n",
       "    </tr>\n",
       "    <tr>\n",
       "      <th>25%</th>\n",
       "      <td>1.000000</td>\n",
       "      <td>99.000000</td>\n",
       "      <td>62.000000</td>\n",
       "      <td>0.000000</td>\n",
       "      <td>0.000000</td>\n",
       "      <td>27.300000</td>\n",
       "      <td>0.243750</td>\n",
       "      <td>24.000000</td>\n",
       "      <td>0.000000</td>\n",
       "    </tr>\n",
       "    <tr>\n",
       "      <th>50%</th>\n",
       "      <td>3.000000</td>\n",
       "      <td>117.000000</td>\n",
       "      <td>72.000000</td>\n",
       "      <td>23.000000</td>\n",
       "      <td>30.500000</td>\n",
       "      <td>32.000000</td>\n",
       "      <td>0.372500</td>\n",
       "      <td>29.000000</td>\n",
       "      <td>0.000000</td>\n",
       "    </tr>\n",
       "    <tr>\n",
       "      <th>75%</th>\n",
       "      <td>6.000000</td>\n",
       "      <td>140.250000</td>\n",
       "      <td>80.000000</td>\n",
       "      <td>32.000000</td>\n",
       "      <td>127.250000</td>\n",
       "      <td>36.600000</td>\n",
       "      <td>0.626250</td>\n",
       "      <td>41.000000</td>\n",
       "      <td>1.000000</td>\n",
       "    </tr>\n",
       "    <tr>\n",
       "      <th>max</th>\n",
       "      <td>17.000000</td>\n",
       "      <td>199.000000</td>\n",
       "      <td>122.000000</td>\n",
       "      <td>99.000000</td>\n",
       "      <td>846.000000</td>\n",
       "      <td>67.100000</td>\n",
       "      <td>2.420000</td>\n",
       "      <td>81.000000</td>\n",
       "      <td>1.000000</td>\n",
       "    </tr>\n",
       "  </tbody>\n",
       "</table>\n",
       "</div>"
      ],
      "text/plain": [
       "       Pregnancies     Glucose  BloodPressure  SkinThickness     Insulin  \\\n",
       "count   768.000000  768.000000     768.000000     768.000000  768.000000   \n",
       "mean      3.845052  120.894531      69.105469      20.536458   79.799479   \n",
       "std       3.369578   31.972618      19.355807      15.952218  115.244002   \n",
       "min       0.000000    0.000000       0.000000       0.000000    0.000000   \n",
       "25%       1.000000   99.000000      62.000000       0.000000    0.000000   \n",
       "50%       3.000000  117.000000      72.000000      23.000000   30.500000   \n",
       "75%       6.000000  140.250000      80.000000      32.000000  127.250000   \n",
       "max      17.000000  199.000000     122.000000      99.000000  846.000000   \n",
       "\n",
       "              BMI  DiabetesPedigreeFunction         Age     Outcome  \n",
       "count  768.000000                768.000000  768.000000  768.000000  \n",
       "mean    31.992578                  0.471876   33.240885    0.348958  \n",
       "std      7.884160                  0.331329   11.760232    0.476951  \n",
       "min      0.000000                  0.078000   21.000000    0.000000  \n",
       "25%     27.300000                  0.243750   24.000000    0.000000  \n",
       "50%     32.000000                  0.372500   29.000000    0.000000  \n",
       "75%     36.600000                  0.626250   41.000000    1.000000  \n",
       "max     67.100000                  2.420000   81.000000    1.000000  "
      ]
     },
     "execution_count": 4,
     "metadata": {},
     "output_type": "execute_result"
    }
   ],
   "source": [
    "data.describe()"
   ]
  },
  {
   "cell_type": "code",
   "execution_count": 5,
   "id": "e58e6ce7-4ccc-4d5e-9f05-1384afb7d2ef",
   "metadata": {},
   "outputs": [
    {
     "data": {
      "text/plain": [
       "Pregnancies                 0\n",
       "Glucose                     0\n",
       "BloodPressure               0\n",
       "SkinThickness               0\n",
       "Insulin                     0\n",
       "BMI                         0\n",
       "DiabetesPedigreeFunction    0\n",
       "Age                         0\n",
       "Outcome                     0\n",
       "dtype: int64"
      ]
     },
     "execution_count": 5,
     "metadata": {},
     "output_type": "execute_result"
    }
   ],
   "source": [
    "data.isnull().sum()"
   ]
  },
  {
   "cell_type": "code",
   "execution_count": 6,
   "id": "0f426d34-2957-4999-9e21-717ae6733b2c",
   "metadata": {},
   "outputs": [],
   "source": [
    "# BMI can not be zero, BP can't be zero, glucose, insuline can't be zero so lets try to fix it\n",
    "# now replacing zero values with the mean of the column\n",
    "data['BMI'] = data['BMI'].replace(0,data['BMI'].mean())\n",
    "data['BloodPressure'] = data['BloodPressure'].replace(0,data['BloodPressure'].mean())\n",
    "data['Glucose'] = data['Glucose'].replace(0,data['Glucose'].mean())\n",
    "data['Insulin'] = data['Insulin'].replace(0,data['Insulin'].median())\n",
    "data['SkinThickness'] = data['SkinThickness'].replace(0,data['SkinThickness'].mean())"
   ]
  },
  {
   "cell_type": "code",
   "execution_count": 7,
   "id": "405c7efb-4f14-42b6-9595-ccb6f571c37b",
   "metadata": {},
   "outputs": [
    {
     "data": {
      "text/html": [
       "<div>\n",
       "<style scoped>\n",
       "    .dataframe tbody tr th:only-of-type {\n",
       "        vertical-align: middle;\n",
       "    }\n",
       "\n",
       "    .dataframe tbody tr th {\n",
       "        vertical-align: top;\n",
       "    }\n",
       "\n",
       "    .dataframe thead th {\n",
       "        text-align: right;\n",
       "    }\n",
       "</style>\n",
       "<table border=\"1\" class=\"dataframe\">\n",
       "  <thead>\n",
       "    <tr style=\"text-align: right;\">\n",
       "      <th></th>\n",
       "      <th>Pregnancies</th>\n",
       "      <th>Glucose</th>\n",
       "      <th>BloodPressure</th>\n",
       "      <th>SkinThickness</th>\n",
       "      <th>Insulin</th>\n",
       "      <th>BMI</th>\n",
       "      <th>DiabetesPedigreeFunction</th>\n",
       "      <th>Age</th>\n",
       "      <th>Outcome</th>\n",
       "    </tr>\n",
       "  </thead>\n",
       "  <tbody>\n",
       "    <tr>\n",
       "      <th>count</th>\n",
       "      <td>768.000000</td>\n",
       "      <td>768.000000</td>\n",
       "      <td>768.000000</td>\n",
       "      <td>768.000000</td>\n",
       "      <td>768.000000</td>\n",
       "      <td>768.000000</td>\n",
       "      <td>768.000000</td>\n",
       "      <td>768.000000</td>\n",
       "      <td>768.000000</td>\n",
       "    </tr>\n",
       "    <tr>\n",
       "      <th>mean</th>\n",
       "      <td>3.845052</td>\n",
       "      <td>121.681605</td>\n",
       "      <td>72.254807</td>\n",
       "      <td>26.606479</td>\n",
       "      <td>94.652344</td>\n",
       "      <td>32.450805</td>\n",
       "      <td>0.471876</td>\n",
       "      <td>33.240885</td>\n",
       "      <td>0.348958</td>\n",
       "    </tr>\n",
       "    <tr>\n",
       "      <th>std</th>\n",
       "      <td>3.369578</td>\n",
       "      <td>30.436016</td>\n",
       "      <td>12.115932</td>\n",
       "      <td>9.631241</td>\n",
       "      <td>105.547598</td>\n",
       "      <td>6.875374</td>\n",
       "      <td>0.331329</td>\n",
       "      <td>11.760232</td>\n",
       "      <td>0.476951</td>\n",
       "    </tr>\n",
       "    <tr>\n",
       "      <th>min</th>\n",
       "      <td>0.000000</td>\n",
       "      <td>44.000000</td>\n",
       "      <td>24.000000</td>\n",
       "      <td>7.000000</td>\n",
       "      <td>14.000000</td>\n",
       "      <td>18.200000</td>\n",
       "      <td>0.078000</td>\n",
       "      <td>21.000000</td>\n",
       "      <td>0.000000</td>\n",
       "    </tr>\n",
       "    <tr>\n",
       "      <th>25%</th>\n",
       "      <td>1.000000</td>\n",
       "      <td>99.750000</td>\n",
       "      <td>64.000000</td>\n",
       "      <td>20.536458</td>\n",
       "      <td>30.500000</td>\n",
       "      <td>27.500000</td>\n",
       "      <td>0.243750</td>\n",
       "      <td>24.000000</td>\n",
       "      <td>0.000000</td>\n",
       "    </tr>\n",
       "    <tr>\n",
       "      <th>50%</th>\n",
       "      <td>3.000000</td>\n",
       "      <td>117.000000</td>\n",
       "      <td>72.000000</td>\n",
       "      <td>23.000000</td>\n",
       "      <td>31.250000</td>\n",
       "      <td>32.000000</td>\n",
       "      <td>0.372500</td>\n",
       "      <td>29.000000</td>\n",
       "      <td>0.000000</td>\n",
       "    </tr>\n",
       "    <tr>\n",
       "      <th>75%</th>\n",
       "      <td>6.000000</td>\n",
       "      <td>140.250000</td>\n",
       "      <td>80.000000</td>\n",
       "      <td>32.000000</td>\n",
       "      <td>127.250000</td>\n",
       "      <td>36.600000</td>\n",
       "      <td>0.626250</td>\n",
       "      <td>41.000000</td>\n",
       "      <td>1.000000</td>\n",
       "    </tr>\n",
       "    <tr>\n",
       "      <th>max</th>\n",
       "      <td>17.000000</td>\n",
       "      <td>199.000000</td>\n",
       "      <td>122.000000</td>\n",
       "      <td>99.000000</td>\n",
       "      <td>846.000000</td>\n",
       "      <td>67.100000</td>\n",
       "      <td>2.420000</td>\n",
       "      <td>81.000000</td>\n",
       "      <td>1.000000</td>\n",
       "    </tr>\n",
       "  </tbody>\n",
       "</table>\n",
       "</div>"
      ],
      "text/plain": [
       "       Pregnancies     Glucose  BloodPressure  SkinThickness     Insulin  \\\n",
       "count   768.000000  768.000000     768.000000     768.000000  768.000000   \n",
       "mean      3.845052  121.681605      72.254807      26.606479   94.652344   \n",
       "std       3.369578   30.436016      12.115932       9.631241  105.547598   \n",
       "min       0.000000   44.000000      24.000000       7.000000   14.000000   \n",
       "25%       1.000000   99.750000      64.000000      20.536458   30.500000   \n",
       "50%       3.000000  117.000000      72.000000      23.000000   31.250000   \n",
       "75%       6.000000  140.250000      80.000000      32.000000  127.250000   \n",
       "max      17.000000  199.000000     122.000000      99.000000  846.000000   \n",
       "\n",
       "              BMI  DiabetesPedigreeFunction         Age     Outcome  \n",
       "count  768.000000                768.000000  768.000000  768.000000  \n",
       "mean    32.450805                  0.471876   33.240885    0.348958  \n",
       "std      6.875374                  0.331329   11.760232    0.476951  \n",
       "min     18.200000                  0.078000   21.000000    0.000000  \n",
       "25%     27.500000                  0.243750   24.000000    0.000000  \n",
       "50%     32.000000                  0.372500   29.000000    0.000000  \n",
       "75%     36.600000                  0.626250   41.000000    1.000000  \n",
       "max     67.100000                  2.420000   81.000000    1.000000  "
      ]
     },
     "execution_count": 7,
     "metadata": {},
     "output_type": "execute_result"
    }
   ],
   "source": [
    "data.describe()"
   ]
  },
  {
   "cell_type": "code",
   "execution_count": 8,
   "id": "b5d9b554-8df5-4468-8ba5-fd3cb1e740e2",
   "metadata": {},
   "outputs": [
    {
     "data": {
      "text/plain": [
       "<Axes: >"
      ]
     },
     "execution_count": 8,
     "metadata": {},
     "output_type": "execute_result"
    },
    {
     "data": {
      "image/png": "[encoded data removed]",
      "text/plain": [
       "<Figure size 1500x1000 with 1 Axes>"
      ]
     },
     "metadata": {},
     "output_type": "display_data"
    }
   ],
   "source": [
    "# Visualize the outliers\n",
    "fig, ax = plt.subplots(figsize=(15,10))\n",
    "sns.boxplot(data=data, width= 0.5,ax=ax,  fliersize=3)"
   ]
  },
  {
   "cell_type": "code",
   "execution_count": 9,
   "id": "1a5d9061-9c1a-47ce-b7ad-93785690fec5",
   "metadata": {},
   "outputs": [
    {
     "data": {
      "text/html": [
       "<div>\n",
       "<style scoped>\n",
       "    .dataframe tbody tr th:only-of-type {\n",
       "        vertical-align: middle;\n",
       "    }\n",
       "\n",
       "    .dataframe tbody tr th {\n",
       "        vertical-align: top;\n",
       "    }\n",
       "\n",
       "    .dataframe thead th {\n",
       "        text-align: right;\n",
       "    }\n",
       "</style>\n",
       "<table border=\"1\" class=\"dataframe\">\n",
       "  <thead>\n",
       "    <tr style=\"text-align: right;\">\n",
       "      <th></th>\n",
       "      <th>Pregnancies</th>\n",
       "      <th>Glucose</th>\n",
       "      <th>BloodPressure</th>\n",
       "      <th>SkinThickness</th>\n",
       "      <th>Insulin</th>\n",
       "      <th>BMI</th>\n",
       "      <th>DiabetesPedigreeFunction</th>\n",
       "      <th>Age</th>\n",
       "      <th>Outcome</th>\n",
       "    </tr>\n",
       "  </thead>\n",
       "  <tbody>\n",
       "    <tr>\n",
       "      <th>0</th>\n",
       "      <td>6</td>\n",
       "      <td>148.0</td>\n",
       "      <td>72.0</td>\n",
       "      <td>35.000000</td>\n",
       "      <td>30.5</td>\n",
       "      <td>33.6</td>\n",
       "      <td>0.627</td>\n",
       "      <td>50</td>\n",
       "      <td>1</td>\n",
       "    </tr>\n",
       "    <tr>\n",
       "      <th>1</th>\n",
       "      <td>1</td>\n",
       "      <td>85.0</td>\n",
       "      <td>66.0</td>\n",
       "      <td>29.000000</td>\n",
       "      <td>30.5</td>\n",
       "      <td>26.6</td>\n",
       "      <td>0.351</td>\n",
       "      <td>31</td>\n",
       "      <td>0</td>\n",
       "    </tr>\n",
       "    <tr>\n",
       "      <th>2</th>\n",
       "      <td>8</td>\n",
       "      <td>183.0</td>\n",
       "      <td>64.0</td>\n",
       "      <td>20.536458</td>\n",
       "      <td>30.5</td>\n",
       "      <td>23.3</td>\n",
       "      <td>0.672</td>\n",
       "      <td>32</td>\n",
       "      <td>1</td>\n",
       "    </tr>\n",
       "    <tr>\n",
       "      <th>3</th>\n",
       "      <td>1</td>\n",
       "      <td>89.0</td>\n",
       "      <td>66.0</td>\n",
       "      <td>23.000000</td>\n",
       "      <td>94.0</td>\n",
       "      <td>28.1</td>\n",
       "      <td>0.167</td>\n",
       "      <td>21</td>\n",
       "      <td>0</td>\n",
       "    </tr>\n",
       "    <tr>\n",
       "      <th>4</th>\n",
       "      <td>0</td>\n",
       "      <td>137.0</td>\n",
       "      <td>40.0</td>\n",
       "      <td>35.000000</td>\n",
       "      <td>168.0</td>\n",
       "      <td>43.1</td>\n",
       "      <td>2.288</td>\n",
       "      <td>33</td>\n",
       "      <td>1</td>\n",
       "    </tr>\n",
       "  </tbody>\n",
       "</table>\n",
       "</div>"
      ],
      "text/plain": [
       "   Pregnancies  Glucose  BloodPressure  SkinThickness  Insulin   BMI  \\\n",
       "0            6    148.0           72.0      35.000000     30.5  33.6   \n",
       "1            1     85.0           66.0      29.000000     30.5  26.6   \n",
       "2            8    183.0           64.0      20.536458     30.5  23.3   \n",
       "3            1     89.0           66.0      23.000000     94.0  28.1   \n",
       "4            0    137.0           40.0      35.000000    168.0  43.1   \n",
       "\n",
       "   DiabetesPedigreeFunction  Age  Outcome  \n",
       "0                     0.627   50        1  \n",
       "1                     0.351   31        0  \n",
       "2                     0.672   32        1  \n",
       "3                     0.167   21        0  \n",
       "4                     2.288   33        1  "
      ]
     },
     "execution_count": 9,
     "metadata": {},
     "output_type": "execute_result"
    }
   ],
   "source": [
    "data.head()"
   ]
  },
  {
   "cell_type": "code",
   "execution_count": 10,
   "id": "31957d10-0383-4c9c-ac1d-f36b67d33acc",
   "metadata": {},
   "outputs": [],
   "source": [
    "#segregate the dependent and independent variable\n",
    "X = data.drop(columns = ['Outcome'])\n",
    "y = data['Outcome']"
   ]
  },
  {
   "cell_type": "code",
   "execution_count": 11,
   "id": "a8bec3c4-c936-44cf-b4e7-649201f65819",
   "metadata": {},
   "outputs": [
    {
     "data": {
      "text/plain": [
       "((576, 8), (192, 8))"
      ]
     },
     "execution_count": 11,
     "metadata": {},
     "output_type": "execute_result"
    }
   ],
   "source": [
    "# separate dataset into train and test\n",
    "X_train, X_test, y_train, y_test = train_test_split(X,y,test_size=0.25,random_state=0)\n",
    "X_train.shape, X_test.shape"
   ]
  },
  {
   "cell_type": "code",
   "execution_count": 37,
   "id": "f57f2922-65ee-4e04-a976-131cf06c9cad",
   "metadata": {},
   "outputs": [],
   "source": [
    "import pickle\n",
    "##standard Scaling- Standardization\n",
    "def scaler_standard(X_train, X_test):\n",
    "    #scaling the data\n",
    "    scaler = StandardScaler()\n",
    "    X_train_scaled = scaler.fit_transform(X_train)\n",
    "    X_test_scaled = scaler.transform(X_test)\n",
    "      #saving the model\n",
    "    file = open('/Users/thejesraj/Desktop/Data_Science_Projects/Diabetes_Prediction/Model/standardScalar.pkl','wb')\n",
    "    pickle.dump(scaler,file)\n",
    "    file.close()\n",
    "    \n",
    "    return X_train_scaled, X_test_scaled"
   ]
  },
  {
   "cell_type": "code",
   "execution_count": 13,
   "id": "c6e2e2aa-dec4-4c53-84ae-d8b9f4520679",
   "metadata": {},
   "outputs": [],
   "source": [
    "X_train_scaled, X_test_scaled = scaler_standard(X_train, X_test)"
   ]
  },
  {
   "cell_type": "code",
   "execution_count": 14,
   "id": "630afaad-9c45-4b00-930e-964efe78cdff",
   "metadata": {},
   "outputs": [
    {
     "data": {
      "text/plain": [
       "array([[ 1.50755225, -1.09947934, -0.89942504, ..., -1.45561965,\n",
       "        -0.98325882, -0.04863985],\n",
       "       [-0.82986389, -0.1331471 , -1.23618124, ...,  0.09272955,\n",
       "        -0.62493647, -0.88246592],\n",
       "       [-1.12204091, -1.03283573,  0.61597784, ..., -0.03629955,\n",
       "         0.39884168, -0.5489355 ],\n",
       "       ...,\n",
       "       [ 0.04666716, -0.93287033, -0.64685789, ..., -1.14021518,\n",
       "        -0.96519215, -1.04923114],\n",
       "       [ 2.09190629, -1.23276654,  0.11084355, ..., -0.36604058,\n",
       "        -0.5075031 ,  0.11812536],\n",
       "       [ 0.33884418,  0.46664532,  0.78435594, ..., -0.09470985,\n",
       "         0.51627505,  2.953134  ]])"
      ]
     },
     "execution_count": 14,
     "metadata": {},
     "output_type": "execute_result"
    }
   ],
   "source": [
    "X_train_scaled"
   ]
  },
  {
   "cell_type": "code",
   "execution_count": 15,
   "id": "da6cea4d-0651-4526-bbd1-5277d9a3e95b",
   "metadata": {},
   "outputs": [],
   "source": [
    "## Decision Tree Model Training With Hyperparameter Tuning\n",
    "import warnings\n",
    "warnings.filterwarnings('ignore')"
   ]
  },
  {
   "cell_type": "code",
   "execution_count": 16,
   "id": "a9611cc2-99c7-4951-97a1-f4dcd60619a2",
   "metadata": {},
   "outputs": [],
   "source": [
    "parameter={\n",
    " 'criterion':['gini','entropy','log_loss'],\n",
    "  'splitter':['best','random'],\n",
    "  'max_depth':[1,2,3,4,5],\n",
    "  'max_features':['auto', 'sqrt', 'log2']\n",
    "    \n",
    "}"
   ]
  },
  {
   "cell_type": "code",
   "execution_count": 17,
   "id": "dffd621d-f6ef-4672-b45d-69fa2362c5ea",
   "metadata": {},
   "outputs": [],
   "source": [
    "from sklearn.model_selection import GridSearchCV\n",
    "classifier=DecisionTreeClassifier()"
   ]
  },
  {
   "cell_type": "code",
   "execution_count": 18,
   "id": "a1a96e19-b119-4689-ad4c-d7d78d5c4abc",
   "metadata": {},
   "outputs": [],
   "source": [
    "## Support Vector Classifier With Hyperparameter Tuning\n",
    "\n",
    "# defining parameter range\n",
    "param_grid = {'C': [0.1, 1, 10],\n",
    "              'gamma': [1, 0.1, 0.01, 0.001],\n",
    "              'kernel':['linear','rbf','polynomial']\n",
    "              }"
   ]
  },
  {
   "cell_type": "code",
   "execution_count": 21,
   "id": "6656fe95-6f17-4147-af03-7e85ac66a71f",
   "metadata": {},
   "outputs": [
    {
     "name": "stdout",
     "output_type": "stream",
     "text": [
      "Fitting 3 folds for each of 36 candidates, totalling 108 fits\n",
      "[CV 1/3] END .....C=0.1, gamma=1, kernel=linear;, score=0.760 total time=   0.4s\n",
      "[CV 2/3] END .....C=0.1, gamma=1, kernel=linear;, score=0.771 total time=   0.3s\n",
      "[CV 3/3] END .....C=0.1, gamma=1, kernel=linear;, score=0.750 total time=   0.1s\n",
      "[CV 1/3] END ........C=0.1, gamma=1, kernel=rbf;, score=0.646 total time=   0.0s\n",
      "[CV 2/3] END ........C=0.1, gamma=1, kernel=rbf;, score=0.641 total time=   0.0s\n",
      "[CV 3/3] END ........C=0.1, gamma=1, kernel=rbf;, score=0.641 total time=   0.0s\n",
      "[CV 1/3] END ...C=0.1, gamma=1, kernel=polynomial;, score=nan total time=   0.0s\n",
      "[CV 2/3] END ...C=0.1, gamma=1, kernel=polynomial;, score=nan total time=   0.0s\n",
      "[CV 3/3] END ...C=0.1, gamma=1, kernel=polynomial;, score=nan total time=   0.0s\n",
      "[CV 1/3] END ...C=0.1, gamma=0.1, kernel=linear;, score=0.760 total time=   0.4s\n",
      "[CV 2/3] END ...C=0.1, gamma=0.1, kernel=linear;, score=0.771 total time=   0.3s\n",
      "[CV 3/3] END ...C=0.1, gamma=0.1, kernel=linear;, score=0.750 total time=   0.1s\n",
      "[CV 1/3] END ......C=0.1, gamma=0.1, kernel=rbf;, score=0.646 total time=   0.0s\n",
      "[CV 2/3] END ......C=0.1, gamma=0.1, kernel=rbf;, score=0.641 total time=   0.0s\n",
      "[CV 3/3] END ......C=0.1, gamma=0.1, kernel=rbf;, score=0.641 total time=   0.0s\n",
      "[CV 1/3] END .C=0.1, gamma=0.1, kernel=polynomial;, score=nan total time=   0.0s\n",
      "[CV 2/3] END .C=0.1, gamma=0.1, kernel=polynomial;, score=nan total time=   0.0s\n",
      "[CV 3/3] END .C=0.1, gamma=0.1, kernel=polynomial;, score=nan total time=   0.0s\n",
      "[CV 1/3] END ..C=0.1, gamma=0.01, kernel=linear;, score=0.760 total time=   0.4s\n",
      "[CV 2/3] END ..C=0.1, gamma=0.01, kernel=linear;, score=0.771 total time=   0.3s\n",
      "[CV 3/3] END ..C=0.1, gamma=0.01, kernel=linear;, score=0.750 total time=   0.1s\n",
      "[CV 1/3] END .....C=0.1, gamma=0.01, kernel=rbf;, score=0.646 total time=   0.0s\n",
      "[CV 2/3] END .....C=0.1, gamma=0.01, kernel=rbf;, score=0.641 total time=   0.0s\n",
      "[CV 3/3] END .....C=0.1, gamma=0.01, kernel=rbf;, score=0.641 total time=   0.0s\n",
      "[CV 1/3] END C=0.1, gamma=0.01, kernel=polynomial;, score=nan total time=   0.0s\n",
      "[CV 2/3] END C=0.1, gamma=0.01, kernel=polynomial;, score=nan total time=   0.0s\n",
      "[CV 3/3] END C=0.1, gamma=0.01, kernel=polynomial;, score=nan total time=   0.0s\n",
      "[CV 1/3] END .C=0.1, gamma=0.001, kernel=linear;, score=0.760 total time=   0.4s\n",
      "[CV 2/3] END .C=0.1, gamma=0.001, kernel=linear;, score=0.771 total time=   0.3s\n",
      "[CV 3/3] END .C=0.1, gamma=0.001, kernel=linear;, score=0.750 total time=   0.1s\n",
      "[CV 1/3] END ....C=0.1, gamma=0.001, kernel=rbf;, score=0.667 total time=   0.0s\n",
      "[CV 2/3] END ....C=0.1, gamma=0.001, kernel=rbf;, score=0.677 total time=   0.0s\n",
      "[CV 3/3] END ....C=0.1, gamma=0.001, kernel=rbf;, score=0.672 total time=   0.0s\n",
      "[CV 1/3] END C=0.1, gamma=0.001, kernel=polynomial;, score=nan total time=   0.0s\n",
      "[CV 2/3] END C=0.1, gamma=0.001, kernel=polynomial;, score=nan total time=   0.0s\n",
      "[CV 3/3] END C=0.1, gamma=0.001, kernel=polynomial;, score=nan total time=   0.0s\n",
      "[CV 1/3] END .......C=1, gamma=1, kernel=linear;, score=0.776 total time=   1.9s\n",
      "[CV 2/3] END .......C=1, gamma=1, kernel=linear;, score=0.771 total time=   1.1s\n",
      "[CV 3/3] END .......C=1, gamma=1, kernel=linear;, score=0.740 total time=   0.8s\n",
      "[CV 1/3] END ..........C=1, gamma=1, kernel=rbf;, score=0.646 total time=   0.0s\n",
      "[CV 2/3] END ..........C=1, gamma=1, kernel=rbf;, score=0.641 total time=   0.0s\n",
      "[CV 3/3] END ..........C=1, gamma=1, kernel=rbf;, score=0.641 total time=   0.0s\n",
      "[CV 1/3] END .....C=1, gamma=1, kernel=polynomial;, score=nan total time=   0.0s\n",
      "[CV 2/3] END .....C=1, gamma=1, kernel=polynomial;, score=nan total time=   0.0s\n",
      "[CV 3/3] END .....C=1, gamma=1, kernel=polynomial;, score=nan total time=   0.0s\n",
      "[CV 1/3] END .....C=1, gamma=0.1, kernel=linear;, score=0.776 total time=   2.4s\n",
      "[CV 2/3] END .....C=1, gamma=0.1, kernel=linear;, score=0.771 total time=   1.3s\n",
      "[CV 3/3] END .....C=1, gamma=0.1, kernel=linear;, score=0.740 total time=   0.8s\n",
      "[CV 1/3] END ........C=1, gamma=0.1, kernel=rbf;, score=0.646 total time=   0.0s\n",
      "[CV 2/3] END ........C=1, gamma=0.1, kernel=rbf;, score=0.641 total time=   0.0s\n",
      "[CV 3/3] END ........C=1, gamma=0.1, kernel=rbf;, score=0.641 total time=   0.0s\n",
      "[CV 1/3] END ...C=1, gamma=0.1, kernel=polynomial;, score=nan total time=   0.0s\n",
      "[CV 2/3] END ...C=1, gamma=0.1, kernel=polynomial;, score=nan total time=   0.0s\n",
      "[CV 3/3] END ...C=1, gamma=0.1, kernel=polynomial;, score=nan total time=   0.0s\n",
      "[CV 1/3] END ....C=1, gamma=0.01, kernel=linear;, score=0.776 total time=   2.0s\n",
      "[CV 2/3] END ....C=1, gamma=0.01, kernel=linear;, score=0.771 total time=   1.1s\n",
      "[CV 3/3] END ....C=1, gamma=0.01, kernel=linear;, score=0.740 total time=   0.7s\n",
      "[CV 1/3] END .......C=1, gamma=0.01, kernel=rbf;, score=0.656 total time=   0.0s\n",
      "[CV 2/3] END .......C=1, gamma=0.01, kernel=rbf;, score=0.667 total time=   0.0s\n",
      "[CV 3/3] END .......C=1, gamma=0.01, kernel=rbf;, score=0.656 total time=   0.0s\n",
      "[CV 1/3] END ..C=1, gamma=0.01, kernel=polynomial;, score=nan total time=   0.0s\n",
      "[CV 2/3] END ..C=1, gamma=0.01, kernel=polynomial;, score=nan total time=   0.0s\n",
      "[CV 3/3] END ..C=1, gamma=0.01, kernel=polynomial;, score=nan total time=   0.0s\n",
      "[CV 1/3] END ...C=1, gamma=0.001, kernel=linear;, score=0.776 total time=   2.1s\n",
      "[CV 2/3] END ...C=1, gamma=0.001, kernel=linear;, score=0.771 total time=   1.1s\n",
      "[CV 3/3] END ...C=1, gamma=0.001, kernel=linear;, score=0.740 total time=   0.8s\n",
      "[CV 1/3] END ......C=1, gamma=0.001, kernel=rbf;, score=0.719 total time=   0.0s\n",
      "[CV 2/3] END ......C=1, gamma=0.001, kernel=rbf;, score=0.724 total time=   0.0s\n",
      "[CV 3/3] END ......C=1, gamma=0.001, kernel=rbf;, score=0.724 total time=   0.0s\n",
      "[CV 1/3] END .C=1, gamma=0.001, kernel=polynomial;, score=nan total time=   0.0s\n",
      "[CV 2/3] END .C=1, gamma=0.001, kernel=polynomial;, score=nan total time=   0.0s\n",
      "[CV 3/3] END .C=1, gamma=0.001, kernel=polynomial;, score=nan total time=   0.0s\n",
      "[CV 1/3] END ......C=10, gamma=1, kernel=linear;, score=0.771 total time=  23.4s\n",
      "[CV 2/3] END ......C=10, gamma=1, kernel=linear;, score=0.776 total time=  17.6s\n",
      "[CV 3/3] END ......C=10, gamma=1, kernel=linear;, score=0.750 total time=   9.5s\n",
      "[CV 1/3] END .........C=10, gamma=1, kernel=rbf;, score=0.646 total time=   0.0s\n",
      "[CV 2/3] END .........C=10, gamma=1, kernel=rbf;, score=0.641 total time=   0.0s\n",
      "[CV 3/3] END .........C=10, gamma=1, kernel=rbf;, score=0.641 total time=   0.0s\n",
      "[CV 1/3] END ....C=10, gamma=1, kernel=polynomial;, score=nan total time=   0.0s\n",
      "[CV 2/3] END ....C=10, gamma=1, kernel=polynomial;, score=nan total time=   0.0s\n",
      "[CV 3/3] END ....C=10, gamma=1, kernel=polynomial;, score=nan total time=   0.0s\n",
      "[CV 1/3] END ....C=10, gamma=0.1, kernel=linear;, score=0.771 total time=  21.6s\n",
      "[CV 2/3] END ....C=10, gamma=0.1, kernel=linear;, score=0.776 total time=  16.2s\n",
      "[CV 3/3] END ....C=10, gamma=0.1, kernel=linear;, score=0.750 total time=   9.0s\n",
      "[CV 1/3] END .......C=10, gamma=0.1, kernel=rbf;, score=0.646 total time=   0.0s\n",
      "[CV 2/3] END .......C=10, gamma=0.1, kernel=rbf;, score=0.641 total time=   0.0s\n",
      "[CV 3/3] END .......C=10, gamma=0.1, kernel=rbf;, score=0.641 total time=   0.0s\n",
      "[CV 1/3] END ..C=10, gamma=0.1, kernel=polynomial;, score=nan total time=   0.0s\n",
      "[CV 2/3] END ..C=10, gamma=0.1, kernel=polynomial;, score=nan total time=   0.0s\n",
      "[CV 3/3] END ..C=10, gamma=0.1, kernel=polynomial;, score=nan total time=   0.0s\n",
      "[CV 1/3] END ...C=10, gamma=0.01, kernel=linear;, score=0.771 total time=  22.2s\n",
      "[CV 2/3] END ...C=10, gamma=0.01, kernel=linear;, score=0.776 total time=  18.1s\n",
      "[CV 3/3] END ...C=10, gamma=0.01, kernel=linear;, score=0.750 total time=   9.6s\n",
      "[CV 1/3] END ......C=10, gamma=0.01, kernel=rbf;, score=0.656 total time=   0.0s\n",
      "[CV 2/3] END ......C=10, gamma=0.01, kernel=rbf;, score=0.635 total time=   0.0s\n",
      "[CV 3/3] END ......C=10, gamma=0.01, kernel=rbf;, score=0.641 total time=   0.0s\n",
      "[CV 1/3] END .C=10, gamma=0.01, kernel=polynomial;, score=nan total time=   0.0s\n",
      "[CV 2/3] END .C=10, gamma=0.01, kernel=polynomial;, score=nan total time=   0.0s\n",
      "[CV 3/3] END .C=10, gamma=0.01, kernel=polynomial;, score=nan total time=   0.0s\n",
      "[CV 1/3] END ..C=10, gamma=0.001, kernel=linear;, score=0.771 total time=  21.3s\n",
      "[CV 2/3] END ..C=10, gamma=0.001, kernel=linear;, score=0.776 total time=  16.3s\n",
      "[CV 3/3] END ..C=10, gamma=0.001, kernel=linear;, score=0.750 total time=   9.0s\n",
      "[CV 1/3] END .....C=10, gamma=0.001, kernel=rbf;, score=0.682 total time=   0.0s\n",
      "[CV 2/3] END .....C=10, gamma=0.001, kernel=rbf;, score=0.677 total time=   0.0s\n",
      "[CV 3/3] END .....C=10, gamma=0.001, kernel=rbf;, score=0.688 total time=   0.0s\n",
      "[CV 1/3] END C=10, gamma=0.001, kernel=polynomial;, score=nan total time=   0.0s\n",
      "[CV 2/3] END C=10, gamma=0.001, kernel=polynomial;, score=nan total time=   0.0s\n",
      "[CV 3/3] END C=10, gamma=0.001, kernel=polynomial;, score=nan total time=   0.0s\n"
     ]
    },
    {
     "data": {
      "text/html": [
       "<style>#sk-container-id-1 {color: black;background-color: white;}#sk-container-id-1 pre{padding: 0;}#sk-container-id-1 div.sk-toggleable {background-color: white;}#sk-container-id-1 label.sk-toggleable__label {cursor: pointer;display: block;width: 100%;margin-bottom: 0;padding: 0.3em;box-sizing: border-box;text-align: center;}#sk-container-id-1 label.sk-toggleable__label-arrow:before {content: \"▸\";float: left;margin-right: 0.25em;color: #696969;}#sk-container-id-1 label.sk-toggleable__label-arrow:hover:before {color: black;}#sk-container-id-1 div.sk-estimator:hover label.sk-toggleable__label-arrow:before {color: black;}#sk-container-id-1 div.sk-toggleable__content {max-height: 0;max-width: 0;overflow: hidden;text-align: left;background-color: #f0f8ff;}#sk-container-id-1 div.sk-toggleable__content pre {margin: 0.2em;color: black;border-radius: 0.25em;background-color: #f0f8ff;}#sk-container-id-1 input.sk-toggleable__control:checked~div.sk-toggleable__content {max-height: 200px;max-width: 100%;overflow: auto;}#sk-container-id-1 input.sk-toggleable__control:checked~label.sk-toggleable__label-arrow:before {content: \"▾\";}#sk-container-id-1 div.sk-estimator input.sk-toggleable__control:checked~label.sk-toggleable__label {background-color: #d4ebff;}#sk-container-id-1 div.sk-label input.sk-toggleable__control:checked~label.sk-toggleable__label {background-color: #d4ebff;}#sk-container-id-1 input.sk-hidden--visually {border: 0;clip: rect(1px 1px 1px 1px);clip: rect(1px, 1px, 1px, 1px);height: 1px;margin: -1px;overflow: hidden;padding: 0;position: absolute;width: 1px;}#sk-container-id-1 div.sk-estimator {font-family: monospace;background-color: #f0f8ff;border: 1px dotted black;border-radius: 0.25em;box-sizing: border-box;margin-bottom: 0.5em;}#sk-container-id-1 div.sk-estimator:hover {background-color: #d4ebff;}#sk-container-id-1 div.sk-parallel-item::after {content: \"\";width: 100%;border-bottom: 1px solid gray;flex-grow: 1;}#sk-container-id-1 div.sk-label:hover label.sk-toggleable__label {background-color: #d4ebff;}#sk-container-id-1 div.sk-serial::before {content: \"\";position: absolute;border-left: 1px solid gray;box-sizing: border-box;top: 0;bottom: 0;left: 50%;z-index: 0;}#sk-container-id-1 div.sk-serial {display: flex;flex-direction: column;align-items: center;background-color: white;padding-right: 0.2em;padding-left: 0.2em;position: relative;}#sk-container-id-1 div.sk-item {position: relative;z-index: 1;}#sk-container-id-1 div.sk-parallel {display: flex;align-items: stretch;justify-content: center;background-color: white;position: relative;}#sk-container-id-1 div.sk-item::before, #sk-container-id-1 div.sk-parallel-item::before {content: \"\";position: absolute;border-left: 1px solid gray;box-sizing: border-box;top: 0;bottom: 0;left: 50%;z-index: -1;}#sk-container-id-1 div.sk-parallel-item {display: flex;flex-direction: column;z-index: 1;position: relative;background-color: white;}#sk-container-id-1 div.sk-parallel-item:first-child::after {align-self: flex-end;width: 50%;}#sk-container-id-1 div.sk-parallel-item:last-child::after {align-self: flex-start;width: 50%;}#sk-container-id-1 div.sk-parallel-item:only-child::after {width: 0;}#sk-container-id-1 div.sk-dashed-wrapped {border: 1px dashed gray;margin: 0 0.4em 0.5em 0.4em;box-sizing: border-box;padding-bottom: 0.4em;background-color: white;}#sk-container-id-1 div.sk-label label {font-family: monospace;font-weight: bold;display: inline-block;line-height: 1.2em;}#sk-container-id-1 div.sk-label-container {text-align: center;}#sk-container-id-1 div.sk-container {/* jupyter's `normalize.less` sets `[hidden] { display: none; }` but bootstrap.min.css set `[hidden] { display: none !important; }` so we also need the `!important` here to be able to override the default hidden behavior on the sphinx rendered scikit-learn.org. See: https://github.com/scikit-learn/scikit-learn/issues/21755 */display: inline-block !important;position: relative;}#sk-container-id-1 div.sk-text-repr-fallback {display: none;}</style><div id=\"sk-container-id-1\" class=\"sk-top-container\"><div class=\"sk-text-repr-fallback\"><pre>GridSearchCV(cv=3, estimator=SVC(),\n",
       "             param_grid={&#x27;C&#x27;: [0.1, 1, 10], &#x27;gamma&#x27;: [1, 0.1, 0.01, 0.001],\n",
       "                         &#x27;kernel&#x27;: [&#x27;linear&#x27;, &#x27;rbf&#x27;, &#x27;polynomial&#x27;]},\n",
       "             scoring=&#x27;accuracy&#x27;, verbose=3)</pre><b>In a Jupyter environment, please rerun this cell to show the HTML representation or trust the notebook. <br />On GitHub, the HTML representation is unable to render, please try loading this page with nbviewer.org.</b></div><div class=\"sk-container\" hidden><div class=\"sk-item sk-dashed-wrapped\"><div class=\"sk-label-container\"><div class=\"sk-label sk-toggleable\"><input class=\"sk-toggleable__control sk-hidden--visually\" id=\"sk-estimator-id-1\" type=\"checkbox\" ><label for=\"sk-estimator-id-1\" class=\"sk-toggleable__label sk-toggleable__label-arrow\">GridSearchCV</label><div class=\"sk-toggleable__content\"><pre>GridSearchCV(cv=3, estimator=SVC(),\n",
       "             param_grid={&#x27;C&#x27;: [0.1, 1, 10], &#x27;gamma&#x27;: [1, 0.1, 0.01, 0.001],\n",
       "                         &#x27;kernel&#x27;: [&#x27;linear&#x27;, &#x27;rbf&#x27;, &#x27;polynomial&#x27;]},\n",
       "             scoring=&#x27;accuracy&#x27;, verbose=3)</pre></div></div></div><div class=\"sk-parallel\"><div class=\"sk-parallel-item\"><div class=\"sk-item\"><div class=\"sk-label-container\"><div class=\"sk-label sk-toggleable\"><input class=\"sk-toggleable__control sk-hidden--visually\" id=\"sk-estimator-id-2\" type=\"checkbox\" ><label for=\"sk-estimator-id-2\" class=\"sk-toggleable__label sk-toggleable__label-arrow\">estimator: SVC</label><div class=\"sk-toggleable__content\"><pre>SVC()</pre></div></div></div><div class=\"sk-serial\"><div class=\"sk-item\"><div class=\"sk-estimator sk-toggleable\"><input class=\"sk-toggleable__control sk-hidden--visually\" id=\"sk-estimator-id-3\" type=\"checkbox\" ><label for=\"sk-estimator-id-3\" class=\"sk-toggleable__label sk-toggleable__label-arrow\">SVC</label><div class=\"sk-toggleable__content\"><pre>SVC()</pre></div></div></div></div></div></div></div></div></div></div>"
      ],
      "text/plain": [
       "GridSearchCV(cv=3, estimator=SVC(),\n",
       "             param_grid={'C': [0.1, 1, 10], 'gamma': [1, 0.1, 0.01, 0.001],\n",
       "                         'kernel': ['linear', 'rbf', 'polynomial']},\n",
       "             scoring='accuracy', verbose=3)"
      ]
     },
     "execution_count": 21,
     "metadata": {},
     "output_type": "execute_result"
    }
   ],
   "source": [
    "grid=GridSearchCV(SVC(),param_grid=param_grid,cv=3,scoring='accuracy',verbose=3)\n",
    "grid.fit(X_train,y_train)"
   ]
  },
  {
   "cell_type": "code",
   "execution_count": null,
   "id": "3d5d6a0f-e19d-4453-b204-3e518f4cd2be",
   "metadata": {},
   "outputs": [],
   "source": []
  },
  {
   "cell_type": "code",
   "execution_count": 22,
   "id": "2f4205e6-5b01-4792-9ce9-3d9b612cdf0b",
   "metadata": {},
   "outputs": [
    {
     "data": {
      "text/plain": [
       "{'C': 10, 'gamma': 1, 'kernel': 'linear'}"
      ]
     },
     "execution_count": 22,
     "metadata": {},
     "output_type": "execute_result"
    }
   ],
   "source": [
    "grid.best_params_"
   ]
  },
  {
   "cell_type": "code",
   "execution_count": 25,
   "id": "aadbc8bc-4bf4-4549-b2b8-ba0bfcdeb3fd",
   "metadata": {},
   "outputs": [
    {
     "data": {
      "text/html": [
       "<style>#sk-container-id-4 {color: black;background-color: white;}#sk-container-id-4 pre{padding: 0;}#sk-container-id-4 div.sk-toggleable {background-color: white;}#sk-container-id-4 label.sk-toggleable__label {cursor: pointer;display: block;width: 100%;margin-bottom: 0;padding: 0.3em;box-sizing: border-box;text-align: center;}#sk-container-id-4 label.sk-toggleable__label-arrow:before {content: \"▸\";float: left;margin-right: 0.25em;color: #696969;}#sk-container-id-4 label.sk-toggleable__label-arrow:hover:before {color: black;}#sk-container-id-4 div.sk-estimator:hover label.sk-toggleable__label-arrow:before {color: black;}#sk-container-id-4 div.sk-toggleable__content {max-height: 0;max-width: 0;overflow: hidden;text-align: left;background-color: #f0f8ff;}#sk-container-id-4 div.sk-toggleable__content pre {margin: 0.2em;color: black;border-radius: 0.25em;background-color: #f0f8ff;}#sk-container-id-4 input.sk-toggleable__control:checked~div.sk-toggleable__content {max-height: 200px;max-width: 100%;overflow: auto;}#sk-container-id-4 input.sk-toggleable__control:checked~label.sk-toggleable__label-arrow:before {content: \"▾\";}#sk-container-id-4 div.sk-estimator input.sk-toggleable__control:checked~label.sk-toggleable__label {background-color: #d4ebff;}#sk-container-id-4 div.sk-label input.sk-toggleable__control:checked~label.sk-toggleable__label {background-color: #d4ebff;}#sk-container-id-4 input.sk-hidden--visually {border: 0;clip: rect(1px 1px 1px 1px);clip: rect(1px, 1px, 1px, 1px);height: 1px;margin: -1px;overflow: hidden;padding: 0;position: absolute;width: 1px;}#sk-container-id-4 div.sk-estimator {font-family: monospace;background-color: #f0f8ff;border: 1px dotted black;border-radius: 0.25em;box-sizing: border-box;margin-bottom: 0.5em;}#sk-container-id-4 div.sk-estimator:hover {background-color: #d4ebff;}#sk-container-id-4 div.sk-parallel-item::after {content: \"\";width: 100%;border-bottom: 1px solid gray;flex-grow: 1;}#sk-container-id-4 div.sk-label:hover label.sk-toggleable__label {background-color: #d4ebff;}#sk-container-id-4 div.sk-serial::before {content: \"\";position: absolute;border-left: 1px solid gray;box-sizing: border-box;top: 0;bottom: 0;left: 50%;z-index: 0;}#sk-container-id-4 div.sk-serial {display: flex;flex-direction: column;align-items: center;background-color: white;padding-right: 0.2em;padding-left: 0.2em;position: relative;}#sk-container-id-4 div.sk-item {position: relative;z-index: 1;}#sk-container-id-4 div.sk-parallel {display: flex;align-items: stretch;justify-content: center;background-color: white;position: relative;}#sk-container-id-4 div.sk-item::before, #sk-container-id-4 div.sk-parallel-item::before {content: \"\";position: absolute;border-left: 1px solid gray;box-sizing: border-box;top: 0;bottom: 0;left: 50%;z-index: -1;}#sk-container-id-4 div.sk-parallel-item {display: flex;flex-direction: column;z-index: 1;position: relative;background-color: white;}#sk-container-id-4 div.sk-parallel-item:first-child::after {align-self: flex-end;width: 50%;}#sk-container-id-4 div.sk-parallel-item:last-child::after {align-self: flex-start;width: 50%;}#sk-container-id-4 div.sk-parallel-item:only-child::after {width: 0;}#sk-container-id-4 div.sk-dashed-wrapped {border: 1px dashed gray;margin: 0 0.4em 0.5em 0.4em;box-sizing: border-box;padding-bottom: 0.4em;background-color: white;}#sk-container-id-4 div.sk-label label {font-family: monospace;font-weight: bold;display: inline-block;line-height: 1.2em;}#sk-container-id-4 div.sk-label-container {text-align: center;}#sk-container-id-4 div.sk-container {/* jupyter's `normalize.less` sets `[hidden] { display: none; }` but bootstrap.min.css set `[hidden] { display: none !important; }` so we also need the `!important` here to be able to override the default hidden behavior on the sphinx rendered scikit-learn.org. See: https://github.com/scikit-learn/scikit-learn/issues/21755 */display: inline-block !important;position: relative;}#sk-container-id-4 div.sk-text-repr-fallback {display: none;}</style><div id=\"sk-container-id-4\" class=\"sk-top-container\"><div class=\"sk-text-repr-fallback\"><pre>SVC(C=10, gamma=1, kernel=&#x27;linear&#x27;)</pre><b>In a Jupyter environment, please rerun this cell to show the HTML representation or trust the notebook. <br />On GitHub, the HTML representation is unable to render, please try loading this page with nbviewer.org.</b></div><div class=\"sk-container\" hidden><div class=\"sk-item\"><div class=\"sk-estimator sk-toggleable\"><input class=\"sk-toggleable__control sk-hidden--visually\" id=\"sk-estimator-id-6\" type=\"checkbox\" checked><label for=\"sk-estimator-id-6\" class=\"sk-toggleable__label sk-toggleable__label-arrow\">SVC</label><div class=\"sk-toggleable__content\"><pre>SVC(C=10, gamma=1, kernel=&#x27;linear&#x27;)</pre></div></div></div></div></div>"
      ],
      "text/plain": [
       "SVC(C=10, gamma=1, kernel='linear')"
      ]
     },
     "execution_count": 25,
     "metadata": {},
     "output_type": "execute_result"
    }
   ],
   "source": [
    "svc_clf=SVC(C=10,gamma=1,kernel='linear')\n",
    "svc_clf.fit(X_train,y_train)"
   ]
  },
  {
   "cell_type": "markdown",
   "id": "bad7cfff-375b-476b-b2e1-f49c3c868446",
   "metadata": {},
   "source": [
    "### let's see how well our model performs on the test data set."
   ]
  },
  {
   "cell_type": "code",
   "execution_count": 27,
   "id": "0da7434d-e963-44aa-a7f7-f8a5a0782bc0",
   "metadata": {},
   "outputs": [],
   "source": [
    "## SVC prediction\n",
    "y_pred_svc = svc_clf.predict(X_test_scaled)"
   ]
  },
  {
   "cell_type": "code",
   "execution_count": 29,
   "id": "fcf2ddf0-1c6a-4ca4-8e68-484d48c7a2eb",
   "metadata": {},
   "outputs": [
    {
     "data": {
      "text/plain": [
       "array([[130,   0],\n",
       "       [ 62,   0]])"
      ]
     },
     "execution_count": 29,
     "metadata": {},
     "output_type": "execute_result"
    }
   ],
   "source": [
    "conf_mat = confusion_matrix(y_test,y_pred_svc)\n",
    "conf_mat"
   ]
  },
  {
   "cell_type": "code",
   "execution_count": 30,
   "id": "a1dba9ec-05f2-4d34-a404-dbc3fdf8b24a",
   "metadata": {},
   "outputs": [],
   "source": [
    "true_positive = conf_mat[0][0]\n",
    "false_positive = conf_mat[0][1]\n",
    "false_negative = conf_mat[1][0]\n",
    "true_negative = conf_mat[1][1]"
   ]
  },
  {
   "cell_type": "code",
   "execution_count": 31,
   "id": "e5c10ac6-d71f-4166-b8b7-c19cad8cf63c",
   "metadata": {},
   "outputs": [
    {
     "data": {
      "text/plain": [
       "0.6770833333333334"
      ]
     },
     "execution_count": 31,
     "metadata": {},
     "output_type": "execute_result"
    }
   ],
   "source": [
    "Accuracy = (true_positive + true_negative) / (true_positive +false_positive + false_negative + true_negative)\n",
    "Accuracy"
   ]
  },
  {
   "cell_type": "code",
   "execution_count": 32,
   "id": "a0cbf5cb-090a-4005-baca-bd67c90db990",
   "metadata": {},
   "outputs": [
    {
     "data": {
      "text/plain": [
       "1.0"
      ]
     },
     "execution_count": 32,
     "metadata": {},
     "output_type": "execute_result"
    }
   ],
   "source": [
    "Precision = true_positive/(true_positive+false_positive)\n",
    "Precision"
   ]
  },
  {
   "cell_type": "code",
   "execution_count": 33,
   "id": "c81c72e8-bb02-4c63-8044-b9f8b3126cdc",
   "metadata": {},
   "outputs": [
    {
     "data": {
      "text/plain": [
       "0.6770833333333334"
      ]
     },
     "execution_count": 33,
     "metadata": {},
     "output_type": "execute_result"
    }
   ],
   "source": [
    "Recall = true_positive/(true_positive+false_negative)\n",
    "Recall"
   ]
  },
  {
   "cell_type": "code",
   "execution_count": 37,
   "id": "6cc382bd-1c27-48bb-8425-055b4d7d6a7d",
   "metadata": {},
   "outputs": [
    {
     "data": {
      "text/plain": [
       "0.8074534161490683"
      ]
     },
     "execution_count": 37,
     "metadata": {},
     "output_type": "execute_result"
    }
   ],
   "source": [
    "F1_Score = 2*(Recall * Precision) / (Recall + Precision)\n",
    "F1_Score"
   ]
  },
  {
   "cell_type": "code",
   "execution_count": 38,
   "id": "ae6a23ea-3c32-4225-ba1d-f7f2a4971eea",
   "metadata": {},
   "outputs": [],
   "source": [
    "import pickle\n",
    "file = open('/Users/thejesraj/Desktop/Data_Science_Projects/Diabetes_Prediction/Model/modelForPrediction.pkl','wb')\n",
    "pickle.dump(classifier,file)\n",
    "file.close()"
   ]
  },
  {
   "cell_type": "code",
   "execution_count": null,
   "id": "ffeec848-bdd2-4947-ad8b-468fb1f6fc54",
   "metadata": {},
   "outputs": [],
   "source": []
  }
 ],
 "metadata": {
  "kernelspec": {
   "display_name": "Python 3 (ipykernel)",
   "language": "python",
   "name": "python3"
  },
  "language_info": {
   "codemirror_mode": {
    "name": "ipython",
    "version": 3
   },
   "file_extension": ".py",
   "mimetype": "text/x-python",
   "name": "python",
   "nbconvert_exporter": "python",
   "pygments_lexer": "ipython3",
   "version": "3.11.7"
  }
 },
 "nbformat": 4,
 "nbformat_minor": 5
}
